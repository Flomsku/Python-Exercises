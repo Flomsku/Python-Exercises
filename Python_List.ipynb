{
 "cells": [
  {
   "cell_type": "code",
   "execution_count": 68,
   "id": "75bc191f",
   "metadata": {},
   "outputs": [
    {
     "name": "stdout",
     "output_type": "stream",
     "text": [
      "Anna luku:\n",
      "7\n",
      "[2, 1, 4, 3, 6, 5, 7]\n"
     ]
    }
   ],
   "source": [
    "#asking a number for the length of a list and reverse every pair of the list elements\n",
    "\n",
    "print('Anna luku:') #asking the length\n",
    "n = int(input()) #moving to variable\n",
    "def createList(n): #function for the creation and reversing\n",
    "    lst = list(range(1,n+1))     #creating the list\n",
    "    try:\n",
    "        for i in range(0, len(lst),2): #for loop to iterate the change between everyother pair\n",
    "            lst[i], lst[i+1] = lst[i+1], lst[i]\n",
    "    except: #exception in case list is and odd number\n",
    "        pass   \n",
    "    return(lst)\n",
    "u = createList(n)\n",
    "print(u)"
   ]
  },
  {
   "cell_type": "code",
   "execution_count": null,
   "id": "01837512",
   "metadata": {},
   "outputs": [],
   "source": []
  }
 ],
 "metadata": {
  "kernelspec": {
   "display_name": "Python 3 (ipykernel)",
   "language": "python",
   "name": "python3"
  },
  "language_info": {
   "codemirror_mode": {
    "name": "ipython",
    "version": 3
   },
   "file_extension": ".py",
   "mimetype": "text/x-python",
   "name": "python",
   "nbconvert_exporter": "python",
   "pygments_lexer": "ipython3",
   "version": "3.10.5"
  }
 },
 "nbformat": 4,
 "nbformat_minor": 5
}
